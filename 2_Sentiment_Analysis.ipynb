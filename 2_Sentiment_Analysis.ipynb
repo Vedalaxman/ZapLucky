{
 "cells": [
  {
   "cell_type": "code",
   "execution_count": 1,
   "id": "52955c87",
   "metadata": {},
   "outputs": [],
   "source": [
    "import pandas as pd\n",
    "import numpy as np\n",
    "import matplotlib.pyplot as plt\n",
    "import seaborn as sns\n",
    "import sklearn\n",
    "from sklearn.model_selection import train_test_split\n",
    "from sklearn.preprocessing import LabelEncoder\n",
    "from sklearn.pipeline import Pipeline\n",
    "from sklearn.ensemble import RandomForestClassifier\n",
    "from sklearn.feature_extraction.text import CountVectorizer\n",
    "from sklearn.svm import SVC\n",
    "from sklearn.metrics import confusion_matrix\n",
    "from sklearn.ensemble import RandomForestRegressor\n",
    "from sklearn.linear_model import LogisticRegression\n",
    "from sklearn.linear_model import LinearRegression\n",
    "import xgboost\n",
    "from xgboost import XGBClassifier\n",
    "from xgboost import XGBRegressor\n",
    "import warnings\n",
    "warnings.filterwarnings(\"ignore\")"
   ]
  },
  {
   "cell_type": "markdown",
   "id": "679685f4",
   "metadata": {},
   "source": [
    "# Reading_The_CSV"
   ]
  },
  {
   "cell_type": "code",
   "execution_count": 2,
   "id": "fa31eaa4",
   "metadata": {},
   "outputs": [],
   "source": [
    "df = pd.read_csv('Tweets.csv')"
   ]
  },
  {
   "cell_type": "code",
   "execution_count": 3,
   "id": "f608ceda",
   "metadata": {},
   "outputs": [
    {
     "data": {
      "text/html": [
       "<div>\n",
       "<style scoped>\n",
       "    .dataframe tbody tr th:only-of-type {\n",
       "        vertical-align: middle;\n",
       "    }\n",
       "\n",
       "    .dataframe tbody tr th {\n",
       "        vertical-align: top;\n",
       "    }\n",
       "\n",
       "    .dataframe thead th {\n",
       "        text-align: right;\n",
       "    }\n",
       "</style>\n",
       "<table border=\"1\" class=\"dataframe\">\n",
       "  <thead>\n",
       "    <tr style=\"text-align: right;\">\n",
       "      <th></th>\n",
       "      <th>tweet_id</th>\n",
       "      <th>airline_sentiment</th>\n",
       "      <th>airline_sentiment_confidence</th>\n",
       "      <th>negativereason</th>\n",
       "      <th>negativereason_confidence</th>\n",
       "      <th>airline</th>\n",
       "      <th>airline_sentiment_gold</th>\n",
       "      <th>name</th>\n",
       "      <th>negativereason_gold</th>\n",
       "      <th>retweet_count</th>\n",
       "      <th>text</th>\n",
       "      <th>tweet_coord</th>\n",
       "      <th>tweet_created</th>\n",
       "      <th>tweet_location</th>\n",
       "      <th>user_timezone</th>\n",
       "    </tr>\n",
       "  </thead>\n",
       "  <tbody>\n",
       "    <tr>\n",
       "      <th>0</th>\n",
       "      <td>570306133677760513</td>\n",
       "      <td>neutral</td>\n",
       "      <td>1.0000</td>\n",
       "      <td>NaN</td>\n",
       "      <td>NaN</td>\n",
       "      <td>Virgin America</td>\n",
       "      <td>NaN</td>\n",
       "      <td>cairdin</td>\n",
       "      <td>NaN</td>\n",
       "      <td>0</td>\n",
       "      <td>@VirginAmerica What @dhepburn said.</td>\n",
       "      <td>NaN</td>\n",
       "      <td>2015-02-24 11:35:52 -0800</td>\n",
       "      <td>NaN</td>\n",
       "      <td>Eastern Time (US &amp; Canada)</td>\n",
       "    </tr>\n",
       "    <tr>\n",
       "      <th>1</th>\n",
       "      <td>570301130888122368</td>\n",
       "      <td>positive</td>\n",
       "      <td>0.3486</td>\n",
       "      <td>NaN</td>\n",
       "      <td>0.0000</td>\n",
       "      <td>Virgin America</td>\n",
       "      <td>NaN</td>\n",
       "      <td>jnardino</td>\n",
       "      <td>NaN</td>\n",
       "      <td>0</td>\n",
       "      <td>@VirginAmerica plus you've added commercials t...</td>\n",
       "      <td>NaN</td>\n",
       "      <td>2015-02-24 11:15:59 -0800</td>\n",
       "      <td>NaN</td>\n",
       "      <td>Pacific Time (US &amp; Canada)</td>\n",
       "    </tr>\n",
       "    <tr>\n",
       "      <th>2</th>\n",
       "      <td>570301083672813571</td>\n",
       "      <td>neutral</td>\n",
       "      <td>0.6837</td>\n",
       "      <td>NaN</td>\n",
       "      <td>NaN</td>\n",
       "      <td>Virgin America</td>\n",
       "      <td>NaN</td>\n",
       "      <td>yvonnalynn</td>\n",
       "      <td>NaN</td>\n",
       "      <td>0</td>\n",
       "      <td>@VirginAmerica I didn't today... Must mean I n...</td>\n",
       "      <td>NaN</td>\n",
       "      <td>2015-02-24 11:15:48 -0800</td>\n",
       "      <td>Lets Play</td>\n",
       "      <td>Central Time (US &amp; Canada)</td>\n",
       "    </tr>\n",
       "    <tr>\n",
       "      <th>3</th>\n",
       "      <td>570301031407624196</td>\n",
       "      <td>negative</td>\n",
       "      <td>1.0000</td>\n",
       "      <td>Bad Flight</td>\n",
       "      <td>0.7033</td>\n",
       "      <td>Virgin America</td>\n",
       "      <td>NaN</td>\n",
       "      <td>jnardino</td>\n",
       "      <td>NaN</td>\n",
       "      <td>0</td>\n",
       "      <td>@VirginAmerica it's really aggressive to blast...</td>\n",
       "      <td>NaN</td>\n",
       "      <td>2015-02-24 11:15:36 -0800</td>\n",
       "      <td>NaN</td>\n",
       "      <td>Pacific Time (US &amp; Canada)</td>\n",
       "    </tr>\n",
       "    <tr>\n",
       "      <th>4</th>\n",
       "      <td>570300817074462722</td>\n",
       "      <td>negative</td>\n",
       "      <td>1.0000</td>\n",
       "      <td>Can't Tell</td>\n",
       "      <td>1.0000</td>\n",
       "      <td>Virgin America</td>\n",
       "      <td>NaN</td>\n",
       "      <td>jnardino</td>\n",
       "      <td>NaN</td>\n",
       "      <td>0</td>\n",
       "      <td>@VirginAmerica and it's a really big bad thing...</td>\n",
       "      <td>NaN</td>\n",
       "      <td>2015-02-24 11:14:45 -0800</td>\n",
       "      <td>NaN</td>\n",
       "      <td>Pacific Time (US &amp; Canada)</td>\n",
       "    </tr>\n",
       "  </tbody>\n",
       "</table>\n",
       "</div>"
      ],
      "text/plain": [
       "             tweet_id airline_sentiment  airline_sentiment_confidence  \\\n",
       "0  570306133677760513           neutral                        1.0000   \n",
       "1  570301130888122368          positive                        0.3486   \n",
       "2  570301083672813571           neutral                        0.6837   \n",
       "3  570301031407624196          negative                        1.0000   \n",
       "4  570300817074462722          negative                        1.0000   \n",
       "\n",
       "  negativereason  negativereason_confidence         airline  \\\n",
       "0            NaN                        NaN  Virgin America   \n",
       "1            NaN                     0.0000  Virgin America   \n",
       "2            NaN                        NaN  Virgin America   \n",
       "3     Bad Flight                     0.7033  Virgin America   \n",
       "4     Can't Tell                     1.0000  Virgin America   \n",
       "\n",
       "  airline_sentiment_gold        name negativereason_gold  retweet_count  \\\n",
       "0                    NaN     cairdin                 NaN              0   \n",
       "1                    NaN    jnardino                 NaN              0   \n",
       "2                    NaN  yvonnalynn                 NaN              0   \n",
       "3                    NaN    jnardino                 NaN              0   \n",
       "4                    NaN    jnardino                 NaN              0   \n",
       "\n",
       "                                                text tweet_coord  \\\n",
       "0                @VirginAmerica What @dhepburn said.         NaN   \n",
       "1  @VirginAmerica plus you've added commercials t...         NaN   \n",
       "2  @VirginAmerica I didn't today... Must mean I n...         NaN   \n",
       "3  @VirginAmerica it's really aggressive to blast...         NaN   \n",
       "4  @VirginAmerica and it's a really big bad thing...         NaN   \n",
       "\n",
       "               tweet_created tweet_location               user_timezone  \n",
       "0  2015-02-24 11:35:52 -0800            NaN  Eastern Time (US & Canada)  \n",
       "1  2015-02-24 11:15:59 -0800            NaN  Pacific Time (US & Canada)  \n",
       "2  2015-02-24 11:15:48 -0800      Lets Play  Central Time (US & Canada)  \n",
       "3  2015-02-24 11:15:36 -0800            NaN  Pacific Time (US & Canada)  \n",
       "4  2015-02-24 11:14:45 -0800            NaN  Pacific Time (US & Canada)  "
      ]
     },
     "execution_count": 3,
     "metadata": {},
     "output_type": "execute_result"
    }
   ],
   "source": [
    "df.head()"
   ]
  },
  {
   "cell_type": "code",
   "execution_count": 4,
   "id": "0cf55714",
   "metadata": {},
   "outputs": [
    {
     "data": {
      "text/plain": [
       "(14640, 15)"
      ]
     },
     "execution_count": 4,
     "metadata": {},
     "output_type": "execute_result"
    }
   ],
   "source": [
    "df.shape"
   ]
  },
  {
   "cell_type": "code",
   "execution_count": 5,
   "id": "e2c016b4",
   "metadata": {},
   "outputs": [
    {
     "data": {
      "text/plain": [
       "tweet_id                            0\n",
       "airline_sentiment                   0\n",
       "airline_sentiment_confidence        0\n",
       "negativereason                   5462\n",
       "negativereason_confidence        4118\n",
       "airline                             0\n",
       "airline_sentiment_gold          14600\n",
       "name                                0\n",
       "negativereason_gold             14608\n",
       "retweet_count                       0\n",
       "text                                0\n",
       "tweet_coord                     13621\n",
       "tweet_created                       0\n",
       "tweet_location                   4733\n",
       "user_timezone                    4820\n",
       "dtype: int64"
      ]
     },
     "execution_count": 5,
     "metadata": {},
     "output_type": "execute_result"
    }
   ],
   "source": [
    "df.isnull().sum()"
   ]
  },
  {
   "cell_type": "markdown",
   "id": "a8d7595f",
   "metadata": {},
   "source": [
    "# Data_Refining"
   ]
  },
  {
   "cell_type": "code",
   "execution_count": 6,
   "id": "85957be3",
   "metadata": {},
   "outputs": [
    {
     "data": {
      "text/plain": [
       "(14640, 9)"
      ]
     },
     "execution_count": 6,
     "metadata": {},
     "output_type": "execute_result"
    }
   ],
   "source": [
    "df2 = df.drop(['airline_sentiment_gold', 'negativereason_gold', 'tweet_coord', 'tweet_id', 'user_timezone', 'tweet_created'], axis='columns')\n",
    "df2.shape"
   ]
  },
  {
   "cell_type": "code",
   "execution_count": 7,
   "id": "1f0dc46a",
   "metadata": {},
   "outputs": [],
   "source": [
    "mean_neg_confidence = df['negativereason_confidence'].mean()\n",
    "df2['negativereason_confidence'].fillna(mean_neg_confidence, inplace=True)"
   ]
  },
  {
   "cell_type": "code",
   "execution_count": 8,
   "id": "99dd504d",
   "metadata": {},
   "outputs": [
    {
     "data": {
      "text/plain": [
       "airline_sentiment                  0\n",
       "airline_sentiment_confidence       0\n",
       "negativereason                  5462\n",
       "negativereason_confidence          0\n",
       "airline                            0\n",
       "name                               0\n",
       "retweet_count                      0\n",
       "text                               0\n",
       "tweet_location                  4733\n",
       "dtype: int64"
      ]
     },
     "execution_count": 8,
     "metadata": {},
     "output_type": "execute_result"
    }
   ],
   "source": [
    "df2.isnull().sum()"
   ]
  },
  {
   "cell_type": "code",
   "execution_count": 9,
   "id": "74c76422",
   "metadata": {},
   "outputs": [
    {
     "data": {
      "text/html": [
       "<div>\n",
       "<style scoped>\n",
       "    .dataframe tbody tr th:only-of-type {\n",
       "        vertical-align: middle;\n",
       "    }\n",
       "\n",
       "    .dataframe tbody tr th {\n",
       "        vertical-align: top;\n",
       "    }\n",
       "\n",
       "    .dataframe thead th {\n",
       "        text-align: right;\n",
       "    }\n",
       "</style>\n",
       "<table border=\"1\" class=\"dataframe\">\n",
       "  <thead>\n",
       "    <tr style=\"text-align: right;\">\n",
       "      <th></th>\n",
       "      <th>airline_sentiment</th>\n",
       "      <th>airline_sentiment_confidence</th>\n",
       "      <th>negativereason</th>\n",
       "      <th>negativereason_confidence</th>\n",
       "      <th>airline</th>\n",
       "      <th>name</th>\n",
       "      <th>retweet_count</th>\n",
       "      <th>text</th>\n",
       "      <th>tweet_location</th>\n",
       "    </tr>\n",
       "  </thead>\n",
       "  <tbody>\n",
       "    <tr>\n",
       "      <th>0</th>\n",
       "      <td>neutral</td>\n",
       "      <td>1.0000</td>\n",
       "      <td>NaN</td>\n",
       "      <td>0.638298</td>\n",
       "      <td>Virgin America</td>\n",
       "      <td>cairdin</td>\n",
       "      <td>0</td>\n",
       "      <td>@VirginAmerica What @dhepburn said.</td>\n",
       "      <td>NaN</td>\n",
       "    </tr>\n",
       "    <tr>\n",
       "      <th>1</th>\n",
       "      <td>positive</td>\n",
       "      <td>0.3486</td>\n",
       "      <td>NaN</td>\n",
       "      <td>0.000000</td>\n",
       "      <td>Virgin America</td>\n",
       "      <td>jnardino</td>\n",
       "      <td>0</td>\n",
       "      <td>@VirginAmerica plus you've added commercials t...</td>\n",
       "      <td>NaN</td>\n",
       "    </tr>\n",
       "    <tr>\n",
       "      <th>2</th>\n",
       "      <td>neutral</td>\n",
       "      <td>0.6837</td>\n",
       "      <td>NaN</td>\n",
       "      <td>0.638298</td>\n",
       "      <td>Virgin America</td>\n",
       "      <td>yvonnalynn</td>\n",
       "      <td>0</td>\n",
       "      <td>@VirginAmerica I didn't today... Must mean I n...</td>\n",
       "      <td>Lets Play</td>\n",
       "    </tr>\n",
       "    <tr>\n",
       "      <th>3</th>\n",
       "      <td>negative</td>\n",
       "      <td>1.0000</td>\n",
       "      <td>Bad Flight</td>\n",
       "      <td>0.703300</td>\n",
       "      <td>Virgin America</td>\n",
       "      <td>jnardino</td>\n",
       "      <td>0</td>\n",
       "      <td>@VirginAmerica it's really aggressive to blast...</td>\n",
       "      <td>NaN</td>\n",
       "    </tr>\n",
       "    <tr>\n",
       "      <th>4</th>\n",
       "      <td>negative</td>\n",
       "      <td>1.0000</td>\n",
       "      <td>Can't Tell</td>\n",
       "      <td>1.000000</td>\n",
       "      <td>Virgin America</td>\n",
       "      <td>jnardino</td>\n",
       "      <td>0</td>\n",
       "      <td>@VirginAmerica and it's a really big bad thing...</td>\n",
       "      <td>NaN</td>\n",
       "    </tr>\n",
       "  </tbody>\n",
       "</table>\n",
       "</div>"
      ],
      "text/plain": [
       "  airline_sentiment  airline_sentiment_confidence negativereason  \\\n",
       "0           neutral                        1.0000            NaN   \n",
       "1          positive                        0.3486            NaN   \n",
       "2           neutral                        0.6837            NaN   \n",
       "3          negative                        1.0000     Bad Flight   \n",
       "4          negative                        1.0000     Can't Tell   \n",
       "\n",
       "   negativereason_confidence         airline        name  retweet_count  \\\n",
       "0                   0.638298  Virgin America     cairdin              0   \n",
       "1                   0.000000  Virgin America    jnardino              0   \n",
       "2                   0.638298  Virgin America  yvonnalynn              0   \n",
       "3                   0.703300  Virgin America    jnardino              0   \n",
       "4                   1.000000  Virgin America    jnardino              0   \n",
       "\n",
       "                                                text tweet_location  \n",
       "0                @VirginAmerica What @dhepburn said.            NaN  \n",
       "1  @VirginAmerica plus you've added commercials t...            NaN  \n",
       "2  @VirginAmerica I didn't today... Must mean I n...      Lets Play  \n",
       "3  @VirginAmerica it's really aggressive to blast...            NaN  \n",
       "4  @VirginAmerica and it's a really big bad thing...            NaN  "
      ]
     },
     "execution_count": 9,
     "metadata": {},
     "output_type": "execute_result"
    }
   ],
   "source": [
    "df2.head()"
   ]
  },
  {
   "cell_type": "code",
   "execution_count": 10,
   "id": "019d7e6c",
   "metadata": {},
   "outputs": [
    {
     "data": {
      "text/plain": [
       "negative    9178\n",
       "neutral     3099\n",
       "positive    2363\n",
       "Name: airline_sentiment, dtype: int64"
      ]
     },
     "execution_count": 10,
     "metadata": {},
     "output_type": "execute_result"
    }
   ],
   "source": [
    "df2.airline_sentiment.value_counts()"
   ]
  },
  {
   "cell_type": "code",
   "execution_count": 11,
   "id": "84a5786b",
   "metadata": {},
   "outputs": [],
   "source": [
    "df2['negativereason'].fillna('No Issue', inplace=True)"
   ]
  },
  {
   "cell_type": "code",
   "execution_count": 12,
   "id": "c6f17435",
   "metadata": {},
   "outputs": [
    {
     "data": {
      "text/html": [
       "<div>\n",
       "<style scoped>\n",
       "    .dataframe tbody tr th:only-of-type {\n",
       "        vertical-align: middle;\n",
       "    }\n",
       "\n",
       "    .dataframe tbody tr th {\n",
       "        vertical-align: top;\n",
       "    }\n",
       "\n",
       "    .dataframe thead th {\n",
       "        text-align: right;\n",
       "    }\n",
       "</style>\n",
       "<table border=\"1\" class=\"dataframe\">\n",
       "  <thead>\n",
       "    <tr style=\"text-align: right;\">\n",
       "      <th></th>\n",
       "      <th>airline_sentiment</th>\n",
       "      <th>airline_sentiment_confidence</th>\n",
       "      <th>negativereason</th>\n",
       "      <th>negativereason_confidence</th>\n",
       "      <th>airline</th>\n",
       "      <th>name</th>\n",
       "      <th>retweet_count</th>\n",
       "      <th>text</th>\n",
       "      <th>tweet_location</th>\n",
       "    </tr>\n",
       "  </thead>\n",
       "  <tbody>\n",
       "    <tr>\n",
       "      <th>2</th>\n",
       "      <td>neutral</td>\n",
       "      <td>0.6837</td>\n",
       "      <td>No Issue</td>\n",
       "      <td>0.638298</td>\n",
       "      <td>Virgin America</td>\n",
       "      <td>yvonnalynn</td>\n",
       "      <td>0</td>\n",
       "      <td>@VirginAmerica I didn't today... Must mean I n...</td>\n",
       "      <td>Lets Play</td>\n",
       "    </tr>\n",
       "    <tr>\n",
       "      <th>6</th>\n",
       "      <td>positive</td>\n",
       "      <td>0.6745</td>\n",
       "      <td>No Issue</td>\n",
       "      <td>0.000000</td>\n",
       "      <td>Virgin America</td>\n",
       "      <td>cjmcginnis</td>\n",
       "      <td>0</td>\n",
       "      <td>@VirginAmerica yes, nearly every time I fly VX...</td>\n",
       "      <td>San Francisco CA</td>\n",
       "    </tr>\n",
       "    <tr>\n",
       "      <th>7</th>\n",
       "      <td>neutral</td>\n",
       "      <td>0.6340</td>\n",
       "      <td>No Issue</td>\n",
       "      <td>0.638298</td>\n",
       "      <td>Virgin America</td>\n",
       "      <td>pilot</td>\n",
       "      <td>0</td>\n",
       "      <td>@VirginAmerica Really missed a prime opportuni...</td>\n",
       "      <td>Los Angeles</td>\n",
       "    </tr>\n",
       "    <tr>\n",
       "      <th>8</th>\n",
       "      <td>positive</td>\n",
       "      <td>0.6559</td>\n",
       "      <td>No Issue</td>\n",
       "      <td>0.638298</td>\n",
       "      <td>Virgin America</td>\n",
       "      <td>dhepburn</td>\n",
       "      <td>0</td>\n",
       "      <td>@virginamerica Well, I didn't…but NOW I DO! :-D</td>\n",
       "      <td>San Diego</td>\n",
       "    </tr>\n",
       "    <tr>\n",
       "      <th>9</th>\n",
       "      <td>positive</td>\n",
       "      <td>1.0000</td>\n",
       "      <td>No Issue</td>\n",
       "      <td>0.638298</td>\n",
       "      <td>Virgin America</td>\n",
       "      <td>YupitsTate</td>\n",
       "      <td>0</td>\n",
       "      <td>@VirginAmerica it was amazing, and arrived an ...</td>\n",
       "      <td>Los Angeles</td>\n",
       "    </tr>\n",
       "  </tbody>\n",
       "</table>\n",
       "</div>"
      ],
      "text/plain": [
       "  airline_sentiment  airline_sentiment_confidence negativereason  \\\n",
       "2           neutral                        0.6837       No Issue   \n",
       "6          positive                        0.6745       No Issue   \n",
       "7           neutral                        0.6340       No Issue   \n",
       "8          positive                        0.6559       No Issue   \n",
       "9          positive                        1.0000       No Issue   \n",
       "\n",
       "   negativereason_confidence         airline        name  retweet_count  \\\n",
       "2                   0.638298  Virgin America  yvonnalynn              0   \n",
       "6                   0.000000  Virgin America  cjmcginnis              0   \n",
       "7                   0.638298  Virgin America       pilot              0   \n",
       "8                   0.638298  Virgin America    dhepburn              0   \n",
       "9                   0.638298  Virgin America  YupitsTate              0   \n",
       "\n",
       "                                                text    tweet_location  \n",
       "2  @VirginAmerica I didn't today... Must mean I n...         Lets Play  \n",
       "6  @VirginAmerica yes, nearly every time I fly VX...  San Francisco CA  \n",
       "7  @VirginAmerica Really missed a prime opportuni...       Los Angeles  \n",
       "8    @virginamerica Well, I didn't…but NOW I DO! :-D         San Diego  \n",
       "9  @VirginAmerica it was amazing, and arrived an ...       Los Angeles  "
      ]
     },
     "execution_count": 12,
     "metadata": {},
     "output_type": "execute_result"
    }
   ],
   "source": [
    "df2.dropna(inplace=True)\n",
    "df2.head()"
   ]
  },
  {
   "cell_type": "code",
   "execution_count": 13,
   "id": "a7f5a048",
   "metadata": {},
   "outputs": [
    {
     "data": {
      "text/plain": [
       "airline_sentiment               0\n",
       "airline_sentiment_confidence    0\n",
       "negativereason                  0\n",
       "negativereason_confidence       0\n",
       "airline                         0\n",
       "name                            0\n",
       "retweet_count                   0\n",
       "text                            0\n",
       "tweet_location                  0\n",
       "dtype: int64"
      ]
     },
     "execution_count": 13,
     "metadata": {},
     "output_type": "execute_result"
    }
   ],
   "source": [
    "df2.isnull().sum()"
   ]
  },
  {
   "cell_type": "code",
   "execution_count": 14,
   "id": "0990c3cb",
   "metadata": {},
   "outputs": [
    {
     "data": {
      "text/plain": [
       "No Issue                       3871\n",
       "Customer Service Issue         1882\n",
       "Late Flight                    1106\n",
       "Can't Tell                      804\n",
       "Cancelled Flight                523\n",
       "Lost Luggage                    453\n",
       "Bad Flight                      389\n",
       "Flight Booking Problems         361\n",
       "Flight Attendant Complaints     336\n",
       "longlines                       127\n",
       "Damaged Luggage                  55\n",
       "Name: negativereason, dtype: int64"
      ]
     },
     "execution_count": 14,
     "metadata": {},
     "output_type": "execute_result"
    }
   ],
   "source": [
    "df2['negativereason'].value_counts()"
   ]
  },
  {
   "cell_type": "code",
   "execution_count": 15,
   "id": "78cc0cbf",
   "metadata": {},
   "outputs": [
    {
     "name": "stdout",
     "output_type": "stream",
     "text": [
      "United            2633\n",
      "American          1848\n",
      "US Airways        1844\n",
      "Delta             1604\n",
      "Southwest         1596\n",
      "Virgin America     382\n",
      "Name: airline, dtype: int64\n"
     ]
    }
   ],
   "source": [
    "print(df2['airline'].value_counts())"
   ]
  },
  {
   "cell_type": "code",
   "execution_count": 16,
   "id": "0f9ac5bb",
   "metadata": {},
   "outputs": [
    {
     "name": "stdout",
     "output_type": "stream",
     "text": [
      "0     13873\n",
      "1       640\n",
      "2        66\n",
      "3        22\n",
      "4        17\n",
      "5         5\n",
      "7         3\n",
      "6         3\n",
      "22        2\n",
      "8         1\n",
      "32        1\n",
      "28        1\n",
      "9         1\n",
      "18        1\n",
      "11        1\n",
      "31        1\n",
      "15        1\n",
      "44        1\n",
      "Name: retweet_count, dtype: int64\n"
     ]
    },
    {
     "data": {
      "text/plain": [
       "(14640, 15)"
      ]
     },
     "execution_count": 16,
     "metadata": {},
     "output_type": "execute_result"
    }
   ],
   "source": [
    "print(df['retweet_count'].value_counts())\n",
    "df.shape"
   ]
  },
  {
   "cell_type": "code",
   "execution_count": 17,
   "id": "d9c77e5a",
   "metadata": {},
   "outputs": [
    {
     "data": {
      "text/plain": [
       "JetBlueNews       63\n",
       "kbosspotter       32\n",
       "_mhertz           29\n",
       "otisday           28\n",
       "throthra          27\n",
       "                  ..\n",
       "ChrisJLeary        1\n",
       "tracy_edes         1\n",
       "NGottesman         1\n",
       "chadlacalamita     1\n",
       "sanyabun           1\n",
       "Name: name, Length: 7701, dtype: int64"
      ]
     },
     "execution_count": 17,
     "metadata": {},
     "output_type": "execute_result"
    }
   ],
   "source": [
    "df['name'].value_counts()"
   ]
  },
  {
   "cell_type": "code",
   "execution_count": 18,
   "id": "36346e76",
   "metadata": {},
   "outputs": [],
   "source": [
    "label_encoder = LabelEncoder()\n",
    "df2['airline_encoded'] = label_encoder.fit_transform(df2['airline'])"
   ]
  },
  {
   "cell_type": "code",
   "execution_count": 19,
   "id": "f3ac1b8e",
   "metadata": {},
   "outputs": [],
   "source": [
    "df2['negativereason_encoded']= label_encoder.fit_transform(df2['negativereason'])"
   ]
  },
  {
   "cell_type": "code",
   "execution_count": 20,
   "id": "9246dbc0",
   "metadata": {},
   "outputs": [],
   "source": [
    "df2['airline_sentiment_encoded']= label_encoder.fit_transform(df2['airline_sentiment'])"
   ]
  },
  {
   "cell_type": "code",
   "execution_count": 21,
   "id": "ae1ae1d3",
   "metadata": {},
   "outputs": [],
   "source": [
    "#airline_encoded  Values\n",
    "\n",
    "#United            4\n",
    "#American          0\n",
    "#US Airways        3\n",
    "#Delta             1\n",
    "#Southwest         2\n",
    "#Virgin America    5"
   ]
  },
  {
   "cell_type": "markdown",
   "id": "28b036be",
   "metadata": {},
   "source": [
    "# Final_Data"
   ]
  },
  {
   "cell_type": "code",
   "execution_count": 22,
   "id": "387e6c25",
   "metadata": {},
   "outputs": [
    {
     "data": {
      "text/html": [
       "<div>\n",
       "<style scoped>\n",
       "    .dataframe tbody tr th:only-of-type {\n",
       "        vertical-align: middle;\n",
       "    }\n",
       "\n",
       "    .dataframe tbody tr th {\n",
       "        vertical-align: top;\n",
       "    }\n",
       "\n",
       "    .dataframe thead th {\n",
       "        text-align: right;\n",
       "    }\n",
       "</style>\n",
       "<table border=\"1\" class=\"dataframe\">\n",
       "  <thead>\n",
       "    <tr style=\"text-align: right;\">\n",
       "      <th></th>\n",
       "      <th>airline_sentiment</th>\n",
       "      <th>airline_sentiment_confidence</th>\n",
       "      <th>negativereason</th>\n",
       "      <th>negativereason_confidence</th>\n",
       "      <th>airline</th>\n",
       "      <th>name</th>\n",
       "      <th>retweet_count</th>\n",
       "      <th>text</th>\n",
       "      <th>tweet_location</th>\n",
       "      <th>airline_encoded</th>\n",
       "      <th>negativereason_encoded</th>\n",
       "      <th>airline_sentiment_encoded</th>\n",
       "    </tr>\n",
       "  </thead>\n",
       "  <tbody>\n",
       "    <tr>\n",
       "      <th>2</th>\n",
       "      <td>neutral</td>\n",
       "      <td>0.6837</td>\n",
       "      <td>No Issue</td>\n",
       "      <td>0.638298</td>\n",
       "      <td>Virgin America</td>\n",
       "      <td>yvonnalynn</td>\n",
       "      <td>0</td>\n",
       "      <td>@VirginAmerica I didn't today... Must mean I n...</td>\n",
       "      <td>Lets Play</td>\n",
       "      <td>5</td>\n",
       "      <td>9</td>\n",
       "      <td>1</td>\n",
       "    </tr>\n",
       "    <tr>\n",
       "      <th>6</th>\n",
       "      <td>positive</td>\n",
       "      <td>0.6745</td>\n",
       "      <td>No Issue</td>\n",
       "      <td>0.000000</td>\n",
       "      <td>Virgin America</td>\n",
       "      <td>cjmcginnis</td>\n",
       "      <td>0</td>\n",
       "      <td>@VirginAmerica yes, nearly every time I fly VX...</td>\n",
       "      <td>San Francisco CA</td>\n",
       "      <td>5</td>\n",
       "      <td>9</td>\n",
       "      <td>2</td>\n",
       "    </tr>\n",
       "    <tr>\n",
       "      <th>7</th>\n",
       "      <td>neutral</td>\n",
       "      <td>0.6340</td>\n",
       "      <td>No Issue</td>\n",
       "      <td>0.638298</td>\n",
       "      <td>Virgin America</td>\n",
       "      <td>pilot</td>\n",
       "      <td>0</td>\n",
       "      <td>@VirginAmerica Really missed a prime opportuni...</td>\n",
       "      <td>Los Angeles</td>\n",
       "      <td>5</td>\n",
       "      <td>9</td>\n",
       "      <td>1</td>\n",
       "    </tr>\n",
       "    <tr>\n",
       "      <th>8</th>\n",
       "      <td>positive</td>\n",
       "      <td>0.6559</td>\n",
       "      <td>No Issue</td>\n",
       "      <td>0.638298</td>\n",
       "      <td>Virgin America</td>\n",
       "      <td>dhepburn</td>\n",
       "      <td>0</td>\n",
       "      <td>@virginamerica Well, I didn't…but NOW I DO! :-D</td>\n",
       "      <td>San Diego</td>\n",
       "      <td>5</td>\n",
       "      <td>9</td>\n",
       "      <td>2</td>\n",
       "    </tr>\n",
       "    <tr>\n",
       "      <th>9</th>\n",
       "      <td>positive</td>\n",
       "      <td>1.0000</td>\n",
       "      <td>No Issue</td>\n",
       "      <td>0.638298</td>\n",
       "      <td>Virgin America</td>\n",
       "      <td>YupitsTate</td>\n",
       "      <td>0</td>\n",
       "      <td>@VirginAmerica it was amazing, and arrived an ...</td>\n",
       "      <td>Los Angeles</td>\n",
       "      <td>5</td>\n",
       "      <td>9</td>\n",
       "      <td>2</td>\n",
       "    </tr>\n",
       "    <tr>\n",
       "      <th>...</th>\n",
       "      <td>...</td>\n",
       "      <td>...</td>\n",
       "      <td>...</td>\n",
       "      <td>...</td>\n",
       "      <td>...</td>\n",
       "      <td>...</td>\n",
       "      <td>...</td>\n",
       "      <td>...</td>\n",
       "      <td>...</td>\n",
       "      <td>...</td>\n",
       "      <td>...</td>\n",
       "      <td>...</td>\n",
       "    </tr>\n",
       "    <tr>\n",
       "      <th>14633</th>\n",
       "      <td>negative</td>\n",
       "      <td>1.0000</td>\n",
       "      <td>Cancelled Flight</td>\n",
       "      <td>1.000000</td>\n",
       "      <td>American</td>\n",
       "      <td>RussellsWriting</td>\n",
       "      <td>0</td>\n",
       "      <td>@AmericanAir my flight was Cancelled Flightled...</td>\n",
       "      <td>Los Angeles</td>\n",
       "      <td>0</td>\n",
       "      <td>2</td>\n",
       "      <td>0</td>\n",
       "    </tr>\n",
       "    <tr>\n",
       "      <th>14636</th>\n",
       "      <td>negative</td>\n",
       "      <td>1.0000</td>\n",
       "      <td>Customer Service Issue</td>\n",
       "      <td>1.000000</td>\n",
       "      <td>American</td>\n",
       "      <td>itsropes</td>\n",
       "      <td>0</td>\n",
       "      <td>@AmericanAir leaving over 20 minutes Late Flig...</td>\n",
       "      <td>Texas</td>\n",
       "      <td>0</td>\n",
       "      <td>3</td>\n",
       "      <td>0</td>\n",
       "    </tr>\n",
       "    <tr>\n",
       "      <th>14637</th>\n",
       "      <td>neutral</td>\n",
       "      <td>1.0000</td>\n",
       "      <td>No Issue</td>\n",
       "      <td>0.638298</td>\n",
       "      <td>American</td>\n",
       "      <td>sanyabun</td>\n",
       "      <td>0</td>\n",
       "      <td>@AmericanAir Please bring American Airlines to...</td>\n",
       "      <td>Nigeria,lagos</td>\n",
       "      <td>0</td>\n",
       "      <td>9</td>\n",
       "      <td>1</td>\n",
       "    </tr>\n",
       "    <tr>\n",
       "      <th>14638</th>\n",
       "      <td>negative</td>\n",
       "      <td>1.0000</td>\n",
       "      <td>Customer Service Issue</td>\n",
       "      <td>0.665900</td>\n",
       "      <td>American</td>\n",
       "      <td>SraJackson</td>\n",
       "      <td>0</td>\n",
       "      <td>@AmericanAir you have my money, you change my ...</td>\n",
       "      <td>New Jersey</td>\n",
       "      <td>0</td>\n",
       "      <td>3</td>\n",
       "      <td>0</td>\n",
       "    </tr>\n",
       "    <tr>\n",
       "      <th>14639</th>\n",
       "      <td>neutral</td>\n",
       "      <td>0.6771</td>\n",
       "      <td>No Issue</td>\n",
       "      <td>0.000000</td>\n",
       "      <td>American</td>\n",
       "      <td>daviddtwu</td>\n",
       "      <td>0</td>\n",
       "      <td>@AmericanAir we have 8 ppl so we need 2 know h...</td>\n",
       "      <td>dallas, TX</td>\n",
       "      <td>0</td>\n",
       "      <td>9</td>\n",
       "      <td>1</td>\n",
       "    </tr>\n",
       "  </tbody>\n",
       "</table>\n",
       "<p>9907 rows × 12 columns</p>\n",
       "</div>"
      ],
      "text/plain": [
       "      airline_sentiment  airline_sentiment_confidence          negativereason  \\\n",
       "2               neutral                        0.6837                No Issue   \n",
       "6              positive                        0.6745                No Issue   \n",
       "7               neutral                        0.6340                No Issue   \n",
       "8              positive                        0.6559                No Issue   \n",
       "9              positive                        1.0000                No Issue   \n",
       "...                 ...                           ...                     ...   \n",
       "14633          negative                        1.0000        Cancelled Flight   \n",
       "14636          negative                        1.0000  Customer Service Issue   \n",
       "14637           neutral                        1.0000                No Issue   \n",
       "14638          negative                        1.0000  Customer Service Issue   \n",
       "14639           neutral                        0.6771                No Issue   \n",
       "\n",
       "       negativereason_confidence         airline             name  \\\n",
       "2                       0.638298  Virgin America       yvonnalynn   \n",
       "6                       0.000000  Virgin America       cjmcginnis   \n",
       "7                       0.638298  Virgin America            pilot   \n",
       "8                       0.638298  Virgin America         dhepburn   \n",
       "9                       0.638298  Virgin America       YupitsTate   \n",
       "...                          ...             ...              ...   \n",
       "14633                   1.000000        American  RussellsWriting   \n",
       "14636                   1.000000        American         itsropes   \n",
       "14637                   0.638298        American         sanyabun   \n",
       "14638                   0.665900        American       SraJackson   \n",
       "14639                   0.000000        American        daviddtwu   \n",
       "\n",
       "       retweet_count                                               text  \\\n",
       "2                  0  @VirginAmerica I didn't today... Must mean I n...   \n",
       "6                  0  @VirginAmerica yes, nearly every time I fly VX...   \n",
       "7                  0  @VirginAmerica Really missed a prime opportuni...   \n",
       "8                  0    @virginamerica Well, I didn't…but NOW I DO! :-D   \n",
       "9                  0  @VirginAmerica it was amazing, and arrived an ...   \n",
       "...              ...                                                ...   \n",
       "14633              0  @AmericanAir my flight was Cancelled Flightled...   \n",
       "14636              0  @AmericanAir leaving over 20 minutes Late Flig...   \n",
       "14637              0  @AmericanAir Please bring American Airlines to...   \n",
       "14638              0  @AmericanAir you have my money, you change my ...   \n",
       "14639              0  @AmericanAir we have 8 ppl so we need 2 know h...   \n",
       "\n",
       "         tweet_location  airline_encoded  negativereason_encoded  \\\n",
       "2             Lets Play                5                       9   \n",
       "6      San Francisco CA                5                       9   \n",
       "7           Los Angeles                5                       9   \n",
       "8             San Diego                5                       9   \n",
       "9           Los Angeles                5                       9   \n",
       "...                 ...              ...                     ...   \n",
       "14633       Los Angeles                0                       2   \n",
       "14636             Texas                0                       3   \n",
       "14637     Nigeria,lagos                0                       9   \n",
       "14638        New Jersey                0                       3   \n",
       "14639        dallas, TX                0                       9   \n",
       "\n",
       "       airline_sentiment_encoded  \n",
       "2                              1  \n",
       "6                              2  \n",
       "7                              1  \n",
       "8                              2  \n",
       "9                              2  \n",
       "...                          ...  \n",
       "14633                          0  \n",
       "14636                          0  \n",
       "14637                          1  \n",
       "14638                          0  \n",
       "14639                          1  \n",
       "\n",
       "[9907 rows x 12 columns]"
      ]
     },
     "execution_count": 22,
     "metadata": {},
     "output_type": "execute_result"
    }
   ],
   "source": [
    "df2"
   ]
  },
  {
   "cell_type": "code",
   "execution_count": 23,
   "id": "efacbf3e",
   "metadata": {},
   "outputs": [
    {
     "data": {
      "text/plain": [
       "airline_sentiment               0\n",
       "airline_sentiment_confidence    0\n",
       "negativereason                  0\n",
       "negativereason_confidence       0\n",
       "airline                         0\n",
       "name                            0\n",
       "retweet_count                   0\n",
       "text                            0\n",
       "tweet_location                  0\n",
       "airline_encoded                 0\n",
       "negativereason_encoded          0\n",
       "airline_sentiment_encoded       0\n",
       "dtype: int64"
      ]
     },
     "execution_count": 23,
     "metadata": {},
     "output_type": "execute_result"
    }
   ],
   "source": [
    "df2.isnull().sum()"
   ]
  },
  {
   "cell_type": "markdown",
   "id": "c63ffdb9",
   "metadata": {},
   "source": [
    "# Visualising_Some_Data"
   ]
  },
  {
   "cell_type": "code",
   "execution_count": 24,
   "id": "ff36c53f",
   "metadata": {},
   "outputs": [],
   "source": [
    "grouped = df2.groupby('airline')\n",
    "negative_sentiment = df2[df2['airline_sentiment'] == 'negative']\n",
    "negative_counts = negative_sentiment['airline'].value_counts()\n",
    "y1 = negative_counts\n",
    "grouped = df2.groupby('airline')\n",
    "positive_sentiment = df2[df2['airline_sentiment'] == 'positive']\n",
    "positive_counts = positive_sentiment['airline'].value_counts()\n",
    "y2 = positive_counts\n",
    "grouped = df2.groupby('airline')\n",
    "neutral_sentiment = df2[df2['airline_sentiment'] == 'neutral']\n",
    "neutral_counts = neutral_sentiment['airline'].value_counts()\n",
    "y3 = neutral_counts"
   ]
  },
  {
   "cell_type": "code",
   "execution_count": 25,
   "id": "7f26c0b0",
   "metadata": {},
   "outputs": [
    {
     "data": {
      "text/plain": [
       "(United            1789\n",
       " US Airways        1427\n",
       " American          1275\n",
       " Southwest          785\n",
       " Delta              634\n",
       " Virgin America     126\n",
       " Name: airline, dtype: int64,\n",
       " Delta             406\n",
       " Southwest         387\n",
       " United            370\n",
       " American          254\n",
       " US Airways        187\n",
       " Virgin America    130\n",
       " Name: airline, dtype: int64,\n",
       " Delta             564\n",
       " United            474\n",
       " Southwest         424\n",
       " American          319\n",
       " US Airways        230\n",
       " Virgin America    126\n",
       " Name: airline, dtype: int64)"
      ]
     },
     "execution_count": 25,
     "metadata": {},
     "output_type": "execute_result"
    }
   ],
   "source": [
    "y1, y2, y3"
   ]
  },
  {
   "cell_type": "code",
   "execution_count": 26,
   "id": "f26e07c1",
   "metadata": {},
   "outputs": [
    {
     "data": {
      "image/png": "[encoded data removed]",
      "text/plain": [
       "<Figure size 400x400 with 1 Axes>"
      ]
     },
     "metadata": {},
     "output_type": "display_data"
    }
   ],
   "source": [
    "airlines = df['airline'].unique()\n",
    "bar_width = 0.25\n",
    "indices = range(len(airlines))\n",
    "plt.figure(figsize=(4,4))\n",
    "plt.bar(indices, y1, bar_width, label='Negative', color='red')\n",
    "plt.bar([i + bar_width for i in indices], y2, bar_width, label='Positive', color='green')\n",
    "plt.bar([i + 2 * bar_width for i in indices], y3, bar_width, label='Neutral', color='gold')\n",
    "plt.xlabel('Airline')\n",
    "plt.ylabel('Sentiment Count')\n",
    "plt.title('Sentiment Analysis by Airline')\n",
    "plt.xticks([i + bar_width for i in indices], airlines, rotation=90)\n",
    "plt.legend()\n",
    "plt.tight_layout()\n",
    "plt.show()"
   ]
  },
  {
   "cell_type": "markdown",
   "id": "11d00da9",
   "metadata": {},
   "source": [
    "# Predicting_The_Sentiment"
   ]
  },
  {
   "cell_type": "code",
   "execution_count": 27,
   "id": "dc5788ce",
   "metadata": {},
   "outputs": [],
   "source": [
    "x = df2['text']\n",
    "y = df2['airline_sentiment_encoded']\n",
    "x_train, x_test, y_train, y_test = train_test_split(x, y, test_size=0.25, random_state=0)"
   ]
  },
  {
   "cell_type": "code",
   "execution_count": 28,
   "id": "60f221a8",
   "metadata": {},
   "outputs": [
    {
     "data": {
      "text/plain": [
       "(7430,)"
      ]
     },
     "execution_count": 28,
     "metadata": {},
     "output_type": "execute_result"
    }
   ],
   "source": [
    "x_train.shape"
   ]
  },
  {
   "cell_type": "code",
   "execution_count": 29,
   "id": "0581be22",
   "metadata": {},
   "outputs": [
    {
     "data": {
      "text/plain": [
       "(7430,)"
      ]
     },
     "execution_count": 29,
     "metadata": {},
     "output_type": "execute_result"
    }
   ],
   "source": [
    "y_train.shape"
   ]
  },
  {
   "cell_type": "code",
   "execution_count": 30,
   "id": "2fd33122",
   "metadata": {},
   "outputs": [
    {
     "data": {
      "text/plain": [
       "0.7323375050464271"
      ]
     },
     "execution_count": 30,
     "metadata": {},
     "output_type": "execute_result"
    }
   ],
   "source": [
    "clf_rf = Pipeline([\n",
    "    ('Vectorizer', CountVectorizer()),\n",
    "    ('rf', RandomForestClassifier(n_estimators=60))\n",
    "])\n",
    "clf_rf.fit(x_train,y_train)\n",
    "clf_rf.score(x_test,y_test)"
   ]
  },
  {
   "cell_type": "code",
   "execution_count": 31,
   "id": "826abb29",
   "metadata": {},
   "outputs": [
    {
     "data": {
      "text/plain": [
       "0.7763423496164715"
      ]
     },
     "execution_count": 31,
     "metadata": {},
     "output_type": "execute_result"
    }
   ],
   "source": [
    "clf_svm = Pipeline([\n",
    "    ('Vectorizer', CountVectorizer()),\n",
    "    ('rf', SVC(kernel='rbf'))\n",
    "])\n",
    "clf_svm.fit(x_train,y_train)\n",
    "clf_svm.score(x_test,y_test)"
   ]
  },
  {
   "cell_type": "code",
   "execution_count": 32,
   "id": "28fa1d4c",
   "metadata": {},
   "outputs": [
    {
     "data": {
      "text/plain": [
       "0.7828017763423496"
      ]
     },
     "execution_count": 32,
     "metadata": {},
     "output_type": "execute_result"
    }
   ],
   "source": [
    "clf_lr = Pipeline([\n",
    "    ('Vectorizer', CountVectorizer()),\n",
    "    ('lr', LogisticRegression())\n",
    "])\n",
    "clf_lr.fit(x_train,y_train)\n",
    "clf_lr.score(x_test,y_test)"
   ]
  },
  {
   "cell_type": "code",
   "execution_count": 33,
   "id": "100e8c1d",
   "metadata": {},
   "outputs": [
    {
     "data": {
      "text/plain": [
       "0.7694792087202261"
      ]
     },
     "execution_count": 33,
     "metadata": {},
     "output_type": "execute_result"
    }
   ],
   "source": [
    "clf_XGBC = Pipeline([\n",
    "    ('Vectorizer', CountVectorizer()),\n",
    "    ('XGBC', XGBClassifier())\n",
    "])\n",
    "clf_XGBC.fit(x_train,y_train)\n",
    "clf_XGBC.score(x_test,y_test)"
   ]
  },
  {
   "cell_type": "code",
   "execution_count": 34,
   "id": "990a4ef1",
   "metadata": {},
   "outputs": [
    {
     "data": {
      "text/plain": [
       "0.4651118073680599"
      ]
     },
     "execution_count": 34,
     "metadata": {},
     "output_type": "execute_result"
    }
   ],
   "source": [
    "clf_XGBR = Pipeline([\n",
    "    ('Vectorizer', CountVectorizer()),\n",
    "    ('XGBR', XGBRegressor())\n",
    "])\n",
    "clf_XGBR.fit(x_train,y_train)\n",
    "clf_XGBR.score(x_test,y_test)"
   ]
  },
  {
   "cell_type": "markdown",
   "id": "2ee63502",
   "metadata": {},
   "source": [
    "# Visualising_The_Prediction\n"
   ]
  },
  {
   "cell_type": "code",
   "execution_count": 35,
   "id": "b6c20d59",
   "metadata": {},
   "outputs": [],
   "source": [
    "#NEUTRAL 0\n",
    "#POSITIVE 1\n",
    "#NEGATIVE 2"
   ]
  },
  {
   "cell_type": "code",
   "execution_count": 36,
   "id": "87565cd9",
   "metadata": {},
   "outputs": [
    {
     "name": "stdout",
     "output_type": "stream",
     "text": [
      "0.7323375050464271\n"
     ]
    },
    {
     "data": {
      "image/png": "[encoded data removed]",
      "text/plain": [
       "<Figure size 400x200 with 2 Axes>"
      ]
     },
     "metadata": {},
     "output_type": "display_data"
    }
   ],
   "source": [
    "y_predicted = clf_rf.predict(x_test)\n",
    "cm = confusion_matrix(y_test, y_predicted)\n",
    "plt.figure(figsize=(4,2))\n",
    "sns.heatmap(cm, annot=True,cmap='viridis', center=0)\n",
    "plt.xlabel('Predicted')\n",
    "plt.ylabel('True')\n",
    "print(clf_rf.score(x_test,y_test))\n",
    "plt.show()"
   ]
  },
  {
   "cell_type": "code",
   "execution_count": 37,
   "id": "38293b32",
   "metadata": {},
   "outputs": [
    {
     "name": "stdout",
     "output_type": "stream",
     "text": [
      "0.7763423496164715\n"
     ]
    },
    {
     "data": {
      "image/png": "[encoded data removed]",
      "text/plain": [
       "<Figure size 400x200 with 2 Axes>"
      ]
     },
     "metadata": {},
     "output_type": "display_data"
    }
   ],
   "source": [
    "y_predicted = clf_svm.predict(x_test)\n",
    "cm = confusion_matrix(y_test, y_predicted)\n",
    "plt.figure(figsize=(4,2))\n",
    "sns.heatmap(cm, annot=True,cmap='viridis', center=0)\n",
    "plt.xlabel('Predicted')\n",
    "plt.ylabel('True')\n",
    "print(clf_svm.score(x_test,y_test))\n",
    "plt.show()"
   ]
  },
  {
   "cell_type": "code",
   "execution_count": 38,
   "id": "267ee014",
   "metadata": {},
   "outputs": [
    {
     "name": "stdout",
     "output_type": "stream",
     "text": [
      "0.7828017763423496\n"
     ]
    },
    {
     "data": {
      "image/png": "[encoded data removed]",
      "text/plain": [
       "<Figure size 400x200 with 2 Axes>"
      ]
     },
     "metadata": {},
     "output_type": "display_data"
    }
   ],
   "source": [
    "y_predicted = clf_lr.predict(x_test)\n",
    "cm = confusion_matrix(y_test, y_predicted)\n",
    "plt.figure(figsize=(4,2))\n",
    "sns.heatmap(cm, annot=True,cmap='viridis', center=0)\n",
    "plt.xlabel('Predicted')\n",
    "plt.ylabel('True')\n",
    "print(clf_lr.score(x_test,y_test))\n",
    "plt.show()"
   ]
  },
  {
   "cell_type": "code",
   "execution_count": 39,
   "id": "3710f755",
   "metadata": {},
   "outputs": [
    {
     "name": "stdout",
     "output_type": "stream",
     "text": [
      "0.7694792087202261\n"
     ]
    },
    {
     "data": {
      "image/png": "[encoded data removed]",
      "text/plain": [
       "<Figure size 400x200 with 2 Axes>"
      ]
     },
     "metadata": {},
     "output_type": "display_data"
    }
   ],
   "source": [
    "y_predicted = clf_XGBC.predict(x_test)\n",
    "cm = confusion_matrix(y_test, y_predicted)\n",
    "plt.figure(figsize=(4,2))\n",
    "sns.heatmap(cm, annot=True,cmap='viridis', center=0)\n",
    "plt.xlabel('Predicted')\n",
    "plt.ylabel('True')\n",
    "print(clf_XGBC.score(x_test,y_test))\n",
    "plt.show()"
   ]
  },
  {
   "cell_type": "markdown",
   "id": "f1bff2aa",
   "metadata": {},
   "source": [
    "# Reason_Prediction"
   ]
  },
  {
   "cell_type": "code",
   "execution_count": 40,
   "id": "572424e1",
   "metadata": {},
   "outputs": [],
   "source": [
    "x = df2['text']\n",
    "y = df2['negativereason_encoded']\n",
    "x_train, x_test, y_train, y_test = train_test_split(x,y, test_size=0.25)"
   ]
  },
  {
   "cell_type": "code",
   "execution_count": 41,
   "id": "35405252",
   "metadata": {},
   "outputs": [
    {
     "data": {
      "text/plain": [
       "0.5720629794105773"
      ]
     },
     "execution_count": 41,
     "metadata": {},
     "output_type": "execute_result"
    }
   ],
   "source": [
    "clf_rf = Pipeline([\n",
    "    ('Vectorizer', CountVectorizer()),\n",
    "    ('rf', RandomForestClassifier(n_estimators=60))\n",
    "])\n",
    "clf_rf.fit(x_train,y_train)\n",
    "clf_rf.score(x_test,y_test)"
   ]
  },
  {
   "cell_type": "code",
   "execution_count": 42,
   "id": "e0618cf9",
   "metadata": {},
   "outputs": [
    {
     "data": {
      "text/plain": [
       "0.6124343964473153"
      ]
     },
     "execution_count": 42,
     "metadata": {},
     "output_type": "execute_result"
    }
   ],
   "source": [
    "clf_svm = Pipeline([\n",
    "    ('Vectorizer', CountVectorizer()),\n",
    "    ('svm', SVC(kernel='rbf'))\n",
    "])\n",
    "clf_svm.fit(x_train,y_train)\n",
    "clf_svm.score(x_test,y_test)"
   ]
  },
  {
   "cell_type": "code",
   "execution_count": 43,
   "id": "cda167c4",
   "metadata": {},
   "outputs": [
    {
     "data": {
      "text/plain": [
       "0.6160678239806218"
      ]
     },
     "execution_count": 43,
     "metadata": {},
     "output_type": "execute_result"
    }
   ],
   "source": [
    "clf_lr = Pipeline([\n",
    "    ('Vectorizer', CountVectorizer()),\n",
    "    ('lr', LogisticRegression())\n",
    "])\n",
    "clf_lr.fit(x_train,y_train)\n",
    "clf_lr.score(x_test,y_test)"
   ]
  },
  {
   "cell_type": "code",
   "execution_count": 44,
   "id": "ed0dd62b",
   "metadata": {},
   "outputs": [
    {
     "data": {
      "text/plain": [
       "0.6233346790472346"
      ]
     },
     "execution_count": 44,
     "metadata": {},
     "output_type": "execute_result"
    }
   ],
   "source": [
    "clf_XGBC = Pipeline([\n",
    "    ('Vectorizer', CountVectorizer()),\n",
    "    ('XGBC', XGBClassifier())\n",
    "])\n",
    "clf_XGBC.fit(x_train,y_train)\n",
    "clf_XGBC.score(x_test,y_test)"
   ]
  },
  {
   "cell_type": "code",
   "execution_count": 45,
   "id": "c7bb8452",
   "metadata": {},
   "outputs": [
    {
     "data": {
      "text/plain": [
       "0.2993588210664331"
      ]
     },
     "execution_count": 45,
     "metadata": {},
     "output_type": "execute_result"
    }
   ],
   "source": [
    "clf_XGBR = Pipeline([\n",
    "    ('Vectorizer', CountVectorizer()),\n",
    "    ('XGBR', XGBRegressor())\n",
    "])\n",
    "clf_XGBR.fit(x_train,y_train)\n",
    "clf_XGBR.score(x_test,y_test)"
   ]
  },
  {
   "cell_type": "markdown",
   "id": "3fd108f3",
   "metadata": {},
   "source": [
    "# Visualising_The_Data"
   ]
  },
  {
   "cell_type": "code",
   "execution_count": 46,
   "id": "b87db451",
   "metadata": {},
   "outputs": [],
   "source": [
    "#Negativereason_encoded       value\n",
    "\n",
    "#No Issue                       9\n",
    "#Customer Service Issue         3\n",
    "#Late Flight                    7\n",
    "#Can't Tell                     1\n",
    "#Cancelled Flight               2\n",
    "#Lost Luggage                   8\n",
    "#Bad Flight                     0\n",
    "#Flight Booking Problems        6\n",
    "#Flight Attendant Complaints    5\n",
    "#longlines                      10\n",
    "#Damaged Luggage                4"
   ]
  },
  {
   "cell_type": "code",
   "execution_count": 47,
   "id": "3a95c1f4",
   "metadata": {},
   "outputs": [
    {
     "name": "stdout",
     "output_type": "stream",
     "text": [
      "0.5720629794105773\n"
     ]
    },
    {
     "data": {
      "image/png": "[encoded data removed]",
      "text/plain": [
       "<Figure size 600x400 with 2 Axes>"
      ]
     },
     "metadata": {},
     "output_type": "display_data"
    }
   ],
   "source": [
    "y_predicted = clf_rf.predict(x_test)\n",
    "cm = confusion_matrix(y_test, y_predicted)\n",
    "plt.figure(figsize=(6,4))\n",
    "sns.heatmap(cm, annot=True,cmap='YlGnBu_r', center=0)\n",
    "plt.xlabel('Predicted')\n",
    "plt.ylabel('True')\n",
    "print(clf_rf.score(x_test,y_test))\n",
    "plt.show()"
   ]
  },
  {
   "cell_type": "code",
   "execution_count": 48,
   "id": "ea466651",
   "metadata": {},
   "outputs": [
    {
     "name": "stdout",
     "output_type": "stream",
     "text": [
      "0.6124343964473153\n"
     ]
    },
    {
     "data": {
      "image/png": "[encoded data removed]",
      "text/plain": [
       "<Figure size 600x400 with 2 Axes>"
      ]
     },
     "metadata": {},
     "output_type": "display_data"
    }
   ],
   "source": [
    "y_predicted = clf_svm.predict(x_test)\n",
    "cm = confusion_matrix(y_test, y_predicted)\n",
    "plt.figure(figsize=(6,4))\n",
    "sns.heatmap(cm, annot=True,cmap='YlGnBu_r', center=0)\n",
    "plt.xlabel('Predicted')\n",
    "plt.ylabel('True')\n",
    "print(clf_svm.score(x_test,y_test))\n",
    "plt.show()"
   ]
  },
  {
   "cell_type": "code",
   "execution_count": 49,
   "id": "7006e654",
   "metadata": {},
   "outputs": [
    {
     "name": "stdout",
     "output_type": "stream",
     "text": [
      "0.6160678239806218\n"
     ]
    },
    {
     "data": {
      "image/png": "[encoded data removed]",
      "text/plain": [
       "<Figure size 600x400 with 2 Axes>"
      ]
     },
     "metadata": {},
     "output_type": "display_data"
    }
   ],
   "source": [
    "y_predicted = clf_lr.predict(x_test)\n",
    "cm = confusion_matrix(y_test, y_predicted)\n",
    "plt.figure(figsize=(6,4))\n",
    "sns.heatmap(cm, annot=True,cmap='YlGnBu_r', center=0)\n",
    "plt.xlabel('Predicted')\n",
    "plt.ylabel('True')\n",
    "print(clf_lr.score(x_test,y_test))\n",
    "plt.show()"
   ]
  },
  {
   "cell_type": "code",
   "execution_count": 50,
   "id": "28f2522c",
   "metadata": {},
   "outputs": [
    {
     "name": "stdout",
     "output_type": "stream",
     "text": [
      "0.6233346790472346\n"
     ]
    },
    {
     "data": {
      "image/png": "[encoded data removed]",
      "text/plain": [
       "<Figure size 600x400 with 2 Axes>"
      ]
     },
     "metadata": {},
     "output_type": "display_data"
    }
   ],
   "source": [
    "y_predicted = clf_XGBC.predict(x_test)\n",
    "cm = confusion_matrix(y_test, y_predicted)\n",
    "plt.figure(figsize=(6,4))\n",
    "sns.heatmap(cm, annot=True,cmap='YlGnBu_r', center=0)\n",
    "plt.xlabel('Predicted')\n",
    "plt.ylabel('True')\n",
    "print(clf_XGBC.score(x_test,y_test))\n",
    "plt.show()"
   ]
  }
 ],
 "metadata": {
  "kernelspec": {
   "display_name": "Python 3 (ipykernel)",
   "language": "python",
   "name": "python3"
  },
  "language_info": {
   "codemirror_mode": {
    "name": "ipython",
    "version": 3
   },
   "file_extension": ".py",
   "mimetype": "text/x-python",
   "name": "python",
   "nbconvert_exporter": "python",
   "pygments_lexer": "ipython3",
   "version": "3.10.9"
  }
 },
 "nbformat": 4,
 "nbformat_minor": 5
}
